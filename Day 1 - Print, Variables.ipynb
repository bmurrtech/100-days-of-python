{
 "cells": [
  {
   "cell_type": "code",
   "execution_count": null,
   "id": "e05b9870-b52b-4edf-9fbc-629158f47d4e",
   "metadata": {},
   "outputs": [],
   "source": [
    "# Day 1 - Python Print Function"
   ]
  },
  {
   "cell_type": "code",
   "execution_count": 12,
   "id": "7ee11234-87f4-494c-9172-2cecf0944ef4",
   "metadata": {},
   "outputs": [
    {
     "name": "stdout",
     "output_type": "stream",
     "text": [
      "Hello world!\n"
     ]
    }
   ],
   "source": [
    "print(\"Hello world!\")"
   ]
  },
  {
   "cell_type": "code",
   "execution_count": null,
   "id": "62c8cecb-d3d5-46fc-a72a-745f2c60d8ae",
   "metadata": {},
   "outputs": [],
   "source": [
    "## String Concatenation (merging strings)\n",
    "## note: spaces and indentations are important!"
   ]
  },
  {
   "cell_type": "code",
   "execution_count": 6,
   "id": "bb42081d-e015-431d-9c93-fd4a69571a13",
   "metadata": {},
   "outputs": [
    {
     "name": "stdout",
     "output_type": "stream",
     "text": [
      "This is my story, this is my song praising my Savior all the day long!\n"
     ]
    }
   ],
   "source": [
    "print(\"This is my story, this is my song\" + \" \" + \"praising my Savior all the day long!\")"
   ]
  },
  {
   "cell_type": "code",
   "execution_count": 9,
   "id": "52d4e2da-e73f-4d28-8ca2-02efa91105e3",
   "metadata": {},
   "outputs": [
    {
     "name": "stdout",
     "output_type": "stream",
     "text": [
      "This is my story, this is my song praising my Savior all the day long!\n"
     ]
    }
   ],
   "source": [
    "print(\"This is my story, this is my song\" + \" praising my Savior all the day long!\")"
   ]
  },
  {
   "cell_type": "code",
   "execution_count": 4,
   "id": "b12ccb30-f598-4f65-b8c1-a00e1f93c408",
   "metadata": {},
   "outputs": [
    {
     "name": "stdout",
     "output_type": "stream",
     "text": [
      "sing: 'There's pow'r in the blood, pow'r in the blood.'\n"
     ]
    }
   ],
   "source": [
    "print(\"sing: 'There's pow'r in the blood, pow'r in the blood.'\")"
   ]
  },
  {
   "cell_type": "code",
   "execution_count": null,
   "id": "4600843a-89e1-40fa-945e-4a327abe6a74",
   "metadata": {},
   "outputs": [],
   "source": [
    "### indentation error"
   ]
  },
  {
   "cell_type": "code",
   "execution_count": 15,
   "id": "b9fc1630-eb06-4bbf-8eb5-52f0385ba7c0",
   "metadata": {},
   "outputs": [
    {
     "name": "stdout",
     "output_type": "stream",
     "text": [
      "Hello Ben\n"
     ]
    }
   ],
   "source": [
    "        print(\"Hello\" + \" \" + \"Ben\")"
   ]
  },
  {
   "cell_type": "code",
   "execution_count": null,
   "id": "4681feed-9378-44e5-9979-86172eb2e7a6",
   "metadata": {},
   "outputs": [],
   "source": [
    "### syntax error - missing close \" at end of \"Hello\""
   ]
  },
  {
   "cell_type": "code",
   "execution_count": 16,
   "id": "2b46f049-e6f2-41f2-a9f3-ee6083abc7c4",
   "metadata": {},
   "outputs": [
    {
     "ename": "SyntaxError",
     "evalue": "unterminated string literal (detected at line 1) (1111582636.py, line 1)",
     "output_type": "error",
     "traceback": [
      "\u001b[0;36m  Cell \u001b[0;32mIn[16], line 1\u001b[0;36m\u001b[0m\n\u001b[0;31m    pring(\"Hello + \" \" + \"Ben\")\u001b[0m\n\u001b[0m                             ^\u001b[0m\n\u001b[0;31mSyntaxError\u001b[0m\u001b[0;31m:\u001b[0m unterminated string literal (detected at line 1)\n"
     ]
    }
   ],
   "source": [
    "print(\"Hello + \" \" + \"Ben\")"
   ]
  },
  {
   "cell_type": "code",
   "execution_count": null,
   "id": "68585c36-8fe5-497b-9f31-52a15e33ea8e",
   "metadata": {},
   "outputs": [],
   "source": [
    "## Print on new lines in same string"
   ]
  },
  {
   "cell_type": "code",
   "execution_count": 11,
   "id": "7c3e7ff0-9f90-4a05-8cde-b9ef3db30ba5",
   "metadata": {},
   "outputs": [
    {
     "name": "stdout",
     "output_type": "stream",
     "text": [
      "There is a fount' filled with blood\n",
      "Drawn from Emmanuel's viens\n",
      "And sinners plunged beneath that flood\n",
      "Lose all their guilty stains\n"
     ]
    }
   ],
   "source": [
    "print(\"There is a fount' filled with blood\\nDrawn from Emmanuel's viens\\nAnd sinners plunged beneath that flood\\nLose all their guilty stains\")"
   ]
  },
  {
   "cell_type": "code",
   "execution_count": null,
   "id": "57f28f05-52f6-4084-9094-d239b47f9922",
   "metadata": {},
   "outputs": [],
   "source": [
    "## Input () fucntion"
   ]
  },
  {
   "cell_type": "code",
   "execution_count": 25,
   "id": "66185ce3-c082-46fc-9e98-e136b281cb85",
   "metadata": {},
   "outputs": [
    {
     "name": "stdout",
     "output_type": "stream",
     "text": [
      "The following is an input fucntion wherein the user is prompted to type an entry.\n"
     ]
    }
   ],
   "source": [
    "print(\"The following is an input function wherein the user is prompted to type an entry.\")"
   ]
  },
  {
   "cell_type": "code",
   "execution_count": null,
   "id": "83b4ff5d-4c15-4d85-af6f-32174b5ca023",
   "metadata": {},
   "outputs": [],
   "source": [
    "## input() will get the user input"
   ]
  },
  {
   "cell_type": "code",
   "execution_count": null,
   "id": "898041d3-86ae-43e7-8e0f-460e38ef1ea0",
   "metadata": {},
   "outputs": [],
   "source": [
    "## then print will print the string with the unique user input"
   ]
  },
  {
   "cell_type": "code",
   "execution_count": 38,
   "id": "bef73903-4943-4683-82c2-d4a8f8f2da16",
   "metadata": {},
   "outputs": [
    {
     "name": "stdin",
     "output_type": "stream",
     "text": [
      "Hello there! I'm Python. What's your name? Ben\n"
     ]
    },
    {
     "name": "stdout",
     "output_type": "stream",
     "text": [
      "Hello, Ben!\n"
     ]
    }
   ],
   "source": [
    "print(\"Hello, \" + input(\"Hello there! I'm Python. What's your name?\") + \"!\")"
   ]
  },
  {
   "cell_type": "code",
   "execution_count": null,
   "id": "3013fd1a-42ca-42ed-b5dc-f4da915fbefd",
   "metadata": {},
   "outputs": [],
   "source": []
  },
  {
   "cell_type": "code",
   "execution_count": null,
   "id": "d9457919-e87e-47fe-86f5-71e559cd5b3f",
   "metadata": {},
   "outputs": [],
   "source": [
    "## Print number of characters in a string\n",
    "## Note: input() will count spaces as characters \"stop it\" is 4 + 1 (space) + 2\""
   ]
  },
  {
   "cell_type": "code",
   "execution_count": 40,
   "id": "bba7a6d1-9a56-46b7-aabd-618d1c26fee0",
   "metadata": {},
   "outputs": [
    {
     "name": "stdin",
     "output_type": "stream",
     "text": [
      " stop it\n"
     ]
    },
    {
     "name": "stdout",
     "output_type": "stream",
     "text": [
      "7\n"
     ]
    }
   ],
   "source": [
    "print(len(input()))"
   ]
  },
  {
   "cell_type": "code",
   "execution_count": null,
   "id": "a35909c9-b440-4894-865f-77e3aaa39ce4",
   "metadata": {},
   "outputs": [],
   "source": []
  },
  {
   "cell_type": "code",
   "execution_count": null,
   "id": "c2ac926c-940f-4f6a-aae1-f7c4fa34627e",
   "metadata": {},
   "outputs": [],
   "source": [
    "## Variables\n",
    "### Declaring a variable and printing the variable"
   ]
  },
  {
   "cell_type": "code",
   "execution_count": 43,
   "id": "966c08d6-2487-4f96-84fb-908e89c9de7c",
   "metadata": {},
   "outputs": [
    {
     "name": "stdout",
     "output_type": "stream",
     "text": [
      "Athanatius\n"
     ]
    }
   ],
   "source": [
    "name = \"Athanatius\"\n",
    "print(name)"
   ]
  },
  {
   "cell_type": "code",
   "execution_count": null,
   "id": "a2a9b340-3f99-41d7-956e-29499ba149c3",
   "metadata": {},
   "outputs": [],
   "source": [
    "### Create variable based upon user input using input func"
   ]
  },
  {
   "cell_type": "code",
   "execution_count": 44,
   "id": "3988ebfc-a875-4aae-9b20-08bcf7d2e9c3",
   "metadata": {},
   "outputs": [
    {
     "name": "stdin",
     "output_type": "stream",
     "text": [
      "What's your name? Augustine\n"
     ]
    },
    {
     "name": "stdout",
     "output_type": "stream",
     "text": [
      "Augustine\n"
     ]
    }
   ],
   "source": [
    "name = input(\"What's your name?\")\n",
    "print(name)"
   ]
  },
  {
   "cell_type": "code",
   "execution_count": null,
   "id": "ca037a9c-40ab-4164-aafa-11839187e40f",
   "metadata": {},
   "outputs": [],
   "source": [
    "### Call the input as a variable and print the character length."
   ]
  },
  {
   "cell_type": "code",
   "execution_count": 46,
   "id": "dddfbf89-26ed-4fba-ab87-bbc8383e6bd0",
   "metadata": {},
   "outputs": [
    {
     "name": "stdout",
     "output_type": "stream",
     "text": [
      "9\n"
     ]
    }
   ],
   "source": [
    "length = len(name)\n",
    "print(length)"
   ]
  },
  {
   "cell_type": "code",
   "execution_count": null,
   "id": "9e8542b0-8798-4464-9a02-44493b45dd1c",
   "metadata": {},
   "outputs": [],
   "source": [
    "## Variable Exercise - Write a program that switches the values stored in the variables of \"a\" and \"b\""
   ]
  },
  {
   "cell_type": "code",
   "execution_count": 52,
   "id": "cd018c46-6dd9-4593-ac6a-96d4ab8b0260",
   "metadata": {},
   "outputs": [
    {
     "name": "stdin",
     "output_type": "stream",
     "text": [
      " lost\n",
      " opportunity\n"
     ]
    },
    {
     "name": "stdout",
     "output_type": "stream",
     "text": [
      "a: opportunity\n",
      "b: lost\n"
     ]
    }
   ],
   "source": [
    "### There are two variables, a and b from input\n",
    "a = input()\n",
    "b = input()\n",
    "### Don't change the code above \n",
    "###############################\n",
    "### Solve by creating a third variable\n",
    "c = a\n",
    "a = b\n",
    "b = c\n",
    "# Write program that switches the values below\n",
    "print(\"a: \" + a)\n",
    "print(\"b: \" + b)"
   ]
  },
  {
   "cell_type": "code",
   "execution_count": null,
   "id": "65293587-018a-46da-b1ac-0aa8e857ff1e",
   "metadata": {},
   "outputs": [],
   "source": []
  }
 ],
 "metadata": {
  "kernelspec": {
   "display_name": "Python 3 (ipykernel)",
   "language": "python",
   "name": "python3"
  },
  "language_info": {
   "codemirror_mode": {
    "name": "ipython",
    "version": 3
   },
   "file_extension": ".py",
   "mimetype": "text/x-python",
   "name": "python",
   "nbconvert_exporter": "python",
   "pygments_lexer": "ipython3",
   "version": "3.10.12"
  }
 },
 "nbformat": 4,
 "nbformat_minor": 5
}
